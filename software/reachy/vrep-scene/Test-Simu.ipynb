{
 "cells": [
  {
   "cell_type": "code",
   "execution_count": 1,
   "metadata": {
    "collapsed": true,
    "deletable": true,
    "editable": true
   },
   "outputs": [],
   "source": [
    "from math import degrees, radians, sin\n",
    "import time\n",
    "import random"
   ]
  },
  {
   "cell_type": "code",
   "execution_count": 2,
   "metadata": {
    "collapsed": true,
    "deletable": true,
    "editable": true
   },
   "outputs": [],
   "source": [
    "from pypot.vrep.io import VrepIO\n",
    "io = VrepIO()"
   ]
  },
  {
   "cell_type": "code",
   "execution_count": 3,
   "metadata": {
    "collapsed": true
   },
   "outputs": [],
   "source": [
    "motors = ['shoulder_pitch',\n",
    "          'shoulder_roll',\n",
    "          'arm_yaw', \n",
    "          'elbow_pitch',\n",
    "          'forearm_yaw',\n",
    "          'wrist_pitch',\n",
    "          'wrist_roll']"
   ]
  },
  {
   "cell_type": "code",
   "execution_count": 6,
   "metadata": {
    "collapsed": true
   },
   "outputs": [],
   "source": [
    "def goto_random():\n",
    "    for m in motors:\n",
    "        io.set_motor_position(m,radians(random.uniform(-90, 90)))"
   ]
  },
  {
   "cell_type": "code",
   "execution_count": 41,
   "metadata": {
    "collapsed": true,
    "deletable": true,
    "editable": true
   },
   "outputs": [],
   "source": []
  },
  {
   "cell_type": "code",
   "execution_count": 84,
   "metadata": {
    "collapsed": false,
    "deletable": true,
    "editable": true
   },
   "outputs": [],
   "source": [
    "io.start_simulation()\n",
    "for _ in range(2):\n",
    "    io.set_motor_position('shoulder_roll', radians(-90))\n",
    "    time.sleep(1)\n",
    "    io.set_motor_position('shoulder_roll', radians(0))\n",
    "    time.sleep(1)\n",
    "#io.set_motor_position('elbow_pitch', radians(-40))\n",
    "io.stop_simulation()"
   ]
  },
  {
   "cell_type": "code",
   "execution_count": 86,
   "metadata": {
    "collapsed": false,
    "deletable": true,
    "editable": true
   },
   "outputs": [],
   "source": [
    "io.start_simulation()\n",
    "io.set_motor_position('arm_yaw', radians(90))\n",
    "io.set_motor_position('elbow_pitch', radians(-40))\n",
    "time.sleep(2)\n",
    "io.stop_simulation()"
   ]
  },
  {
   "cell_type": "code",
   "execution_count": 89,
   "metadata": {
    "collapsed": false
   },
   "outputs": [],
   "source": [
    "io.start_simulation()\n",
    "for _ in range(4):\n",
    "    goto_random()\n",
    "    time.sleep(1)\n",
    "io.stop_simulation()"
   ]
  },
  {
   "cell_type": "code",
   "execution_count": null,
   "metadata": {
    "collapsed": true
   },
   "outputs": [],
   "source": []
  }
 ],
 "metadata": {
  "kernelspec": {
   "display_name": "Python 2",
   "language": "python",
   "name": "python2"
  },
  "language_info": {
   "codemirror_mode": {
    "name": "ipython",
    "version": 2
   },
   "file_extension": ".py",
   "mimetype": "text/x-python",
   "name": "python",
   "nbconvert_exporter": "python",
   "pygments_lexer": "ipython2",
   "version": "2.7.13"
  }
 },
 "nbformat": 4,
 "nbformat_minor": 2
}
