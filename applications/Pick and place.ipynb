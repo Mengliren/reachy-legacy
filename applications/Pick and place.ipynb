{
 "cells": [
  {
   "cell_type": "markdown",
   "metadata": {},
   "source": [
    "# Pick and Place"
   ]
  },
  {
   "cell_type": "markdown",
   "metadata": {},
   "source": [
    "In this notebook, we will show you how to realize a simple pick and place example using Reachy and a Brunel Hand made by Open Bionics.\n",
    "\n",
    "To realize this application, several steps must be followed:\n",
    "\n",
    "* First, we put the robot in a **rest position**.\n",
    "* Then, we **record by demonstration** the trajectory from this position to the **pick position**.\n",
    "* We **close the hand** on the object.\n",
    "* The record by demonstration the trajectory to the **place position**.\n",
    "* We **open the hand** to release the object.\n",
    "* Finally, we go back to our rest position.\n",
    "\n",
    "We will describe each of them below."
   ]
  },
  {
   "cell_type": "markdown",
   "metadata": {},
   "source": [
    "### Prepare the setup"
   ]
  },
  {
   "cell_type": "code",
   "execution_count": null,
   "metadata": {},
   "outputs": [],
   "source": [
    "%matplotlib inline\n",
    "\n",
    "import matplotlib.pyplot as plt\n",
    "import numpy as np\n",
    "import time"
   ]
  },
  {
   "cell_type": "markdown",
   "metadata": {},
   "source": [
    "First, we'll connect to our robot and specify the port for the hand we are using."
   ]
  },
  {
   "cell_type": "code",
   "execution_count": null,
   "metadata": {},
   "outputs": [],
   "source": [
    "from reachy import Leachy\n",
    "\n",
    "leachy = Leachy(brunel_hand='/dev/tty.usbmodem141411')"
   ]
  },
  {
   "cell_type": "markdown",
   "metadata": {},
   "source": [
    "Define your rest position."
   ]
  },
  {
   "cell_type": "code",
   "execution_count": null,
   "metadata": {},
   "outputs": [],
   "source": [
    "rest_position = {\n",
    "    'l_shoulder_pitch': -7,\n",
    "    'l_shoulder_roll': 5,\n",
    "    'l_arm_yaw': 0,\n",
    "    'l_elbow_pitch': -35,\n",
    "    'l_forearm_yaw': 20,\n",
    "    'l_wrist_pitch': -30,\n",
    "}"
   ]
  },
  {
   "cell_type": "code",
   "execution_count": null,
   "metadata": {},
   "outputs": [],
   "source": [
    "def goto_rest(dur=2.0, wait=True):\n",
    "    for m in leachy.motors:\n",
    "        m.compliant = False\n",
    "\n",
    "    leachy.goto_position(rest_position, duration=dur, wait=wait)"
   ]
  },
  {
   "cell_type": "markdown",
   "metadata": {},
   "source": [
    "Check that everything is ok."
   ]
  },
  {
   "cell_type": "code",
   "execution_count": null,
   "metadata": {},
   "outputs": [],
   "source": [
    "goto_rest()"
   ]
  },
  {
   "cell_type": "markdown",
   "metadata": {},
   "source": [
    "## Pick the object"
   ]
  },
  {
   "cell_type": "markdown",
   "metadata": {},
   "source": [
    "We will record the trajectory to the pick position by demonstration, meaning a human user will directly move the arm of the robot and we will record the present position of its motor."
   ]
  },
  {
   "cell_type": "markdown",
   "metadata": {},
   "source": [
    "First, let's put reachy in compliant mode, where it can be freely moved."
   ]
  },
  {
   "cell_type": "code",
   "execution_count": null,
   "metadata": {},
   "outputs": [],
   "source": [
    "leachy.compliant = True"
   ]
  },
  {
   "cell_type": "markdown",
   "metadata": {},
   "source": [
    "Now we will define a record function that lets you move the robot and record its present position for a predetermined duration (expressed in sec)."
   ]
  },
  {
   "cell_type": "code",
   "execution_count": null,
   "metadata": {},
   "outputs": [],
   "source": [
    "def record_trajectory(duration, record_freq=50.0):\n",
    "    t0 = time.time()\n",
    "    \n",
    "    traj = []\n",
    "    while time.time() - t0 < duration:\n",
    "        traj.append([m.present_position for m in leachy.motors])\n",
    "        time.sleep(1.0 / record_freq)\n",
    "    \n",
    "    return np.array(traj)"
   ]
  },
  {
   "cell_type": "markdown",
   "metadata": {},
   "source": [
    "Now, move the robot to the pick location. You have 5 seconds!"
   ]
  },
  {
   "cell_type": "code",
   "execution_count": null,
   "metadata": {},
   "outputs": [],
   "source": [
    "pick_traj = record_trajectory(5.0)\n",
    "print(len(pick_traj), 'position recorded')"
   ]
  },
  {
   "cell_type": "markdown",
   "metadata": {},
   "source": [
    "You can plot the trajectory to check that it went well."
   ]
  },
  {
   "cell_type": "code",
   "execution_count": null,
   "metadata": {},
   "outputs": [],
   "source": [
    "plt.plot(pick_traj)\n",
    "plt.legend([m.name for m in leachy.motors], loc='upper right')"
   ]
  },
  {
   "cell_type": "markdown",
   "metadata": {},
   "source": [
    "We now need to define a function that will be used to replay a trajectory."
   ]
  },
  {
   "cell_type": "code",
   "execution_count": null,
   "metadata": {},
   "outputs": [],
   "source": [
    "def replay_trajectory(traj, play_freq=50.0):\n",
    "    for m in leachy.motors:\n",
    "        m.compliant = False\n",
    "    \n",
    "    for pos in traj:\n",
    "        goal = {\n",
    "            m.name: p\n",
    "            for m, p in zip(leachy.motors, pos)\n",
    "        }\n",
    "        leachy.goto_position(goal, 1.0 / play_freq)\n",
    "        time.sleep(1.0 / play_freq)"
   ]
  },
  {
   "cell_type": "markdown",
   "metadata": {},
   "source": [
    "Let's try our new trajectory by first going to the rest position, then to the pick position."
   ]
  },
  {
   "cell_type": "code",
   "execution_count": null,
   "metadata": {},
   "outputs": [],
   "source": [
    "goto_rest()\n",
    "replay_trajectory(pick_traj)"
   ]
  },
  {
   "cell_type": "markdown",
   "metadata": {},
   "source": [
    "You can re-record your pick trajectory until you are satisfied with the result."
   ]
  },
  {
   "cell_type": "markdown",
   "metadata": {},
   "source": [
    "And finally, to end the pick part of our application we need to close the hand to grasp the object."
   ]
  },
  {
   "cell_type": "code",
   "execution_count": null,
   "metadata": {},
   "outputs": [],
   "source": [
    "leachy.hand.close()"
   ]
  },
  {
   "cell_type": "markdown",
   "metadata": {},
   "source": [
    "## Place the object"
   ]
  },
  {
   "cell_type": "markdown",
   "metadata": {},
   "source": [
    "Now that we have picked the object, we want to place it in the place location. We will proceed as before. First, we record the place trajectory by demonstration, then check if the robot replays it correctly and finally open the hand to release the object."
   ]
  },
  {
   "cell_type": "markdown",
   "metadata": {},
   "source": [
    "First, we record the place trajectory. As before, you have 5 seconds."
   ]
  },
  {
   "cell_type": "code",
   "execution_count": null,
   "metadata": {},
   "outputs": [],
   "source": [
    "leachy.compliant = True\n",
    "\n",
    "place_traj = record_trajectory(5.0)\n",
    "print(len(place_traj), 'position recorded')"
   ]
  },
  {
   "cell_type": "markdown",
   "metadata": {},
   "source": [
    "Then, we replay our trajectory. To insure that we don't do unexpected movement, we will make sure to start from the first position of our trajectory."
   ]
  },
  {
   "cell_type": "code",
   "execution_count": null,
   "metadata": {},
   "outputs": [],
   "source": [
    "leachy.compliant = False\n",
    "\n",
    "start_of_trajectory = {\n",
    "    m.name: p\n",
    "    for m, p in zip(leachy.motors, place_traj[0])\n",
    "}\n",
    "\n",
    "leachy.goto_position(start_of_trajectory, 2.0, wait=True)"
   ]
  },
  {
   "cell_type": "markdown",
   "metadata": {},
   "source": [
    "And now we play our trajectory."
   ]
  },
  {
   "cell_type": "code",
   "execution_count": null,
   "metadata": {},
   "outputs": [],
   "source": [
    "replay_trajectory(place_traj)"
   ]
  },
  {
   "cell_type": "markdown",
   "metadata": {},
   "source": [
    "If you are satisfied with the behavior and the end position of the trajectory, you can release the object via:"
   ]
  },
  {
   "cell_type": "code",
   "execution_count": null,
   "metadata": {},
   "outputs": [],
   "source": [
    "leachy.hand.open()"
   ]
  },
  {
   "cell_type": "markdown",
   "metadata": {},
   "source": [
    "That's it for the place part!"
   ]
  },
  {
   "cell_type": "markdown",
   "metadata": {},
   "source": [
    "## Putting everything together"
   ]
  },
  {
   "cell_type": "code",
   "execution_count": null,
   "metadata": {},
   "outputs": [],
   "source": [
    "def pick_and_place():\n",
    "    goto_rest()\n",
    "    \n",
    "    # Pick\n",
    "    replay_trajectory(pick_traj)\n",
    "    time.sleep(1.0) # Make sure we are stabilized\n",
    "    leachy.hand.close()\n",
    "    \n",
    "    # Place\n",
    "    replay_trajectory(place_traj)\n",
    "    time.sleep(1.0)\n",
    "    leachy.hand.open()"
   ]
  },
  {
   "cell_type": "markdown",
   "metadata": {},
   "source": [
    "You can now try your new application."
   ]
  },
  {
   "cell_type": "code",
   "execution_count": null,
   "metadata": {},
   "outputs": [],
   "source": [
    "pick_and_place()"
   ]
  },
  {
   "cell_type": "markdown",
   "metadata": {},
   "source": [
    "If everything looks ok, you can run it in a loop."
   ]
  },
  {
   "cell_type": "code",
   "execution_count": null,
   "metadata": {},
   "outputs": [],
   "source": [
    "for _ in range(10):\n",
    "    pick_and_place()"
   ]
  },
  {
   "cell_type": "markdown",
   "metadata": {},
   "source": [
    "## To go further"
   ]
  },
  {
   "cell_type": "markdown",
   "metadata": {},
   "source": [
    "Even if it's working, this behavior could still be improved. For instance, you could:\n",
    "\n",
    "* edit the trajectory to smooth the transition\n",
    "* use other control method to replay the trajectory to smooth acceleration at the beginning and end of the trajectory\n",
    "* check the motor temperature to avoid overheating"
   ]
  },
  {
   "cell_type": "code",
   "execution_count": null,
   "metadata": {},
   "outputs": [],
   "source": []
  }
 ],
 "metadata": {
  "kernelspec": {
   "display_name": "Python 3",
   "language": "python",
   "name": "python3"
  },
  "language_info": {
   "codemirror_mode": {
    "name": "ipython",
    "version": 3
   },
   "file_extension": ".py",
   "mimetype": "text/x-python",
   "name": "python",
   "nbconvert_exporter": "python",
   "pygments_lexer": "ipython3",
   "version": "3.6.5"
  }
 },
 "nbformat": 4,
 "nbformat_minor": 2
}
