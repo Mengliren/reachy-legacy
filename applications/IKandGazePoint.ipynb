{
 "cells": [
  {
   "cell_type": "code",
   "execution_count": null,
   "metadata": {},
   "outputs": [],
   "source": [
    "import time\n",
    "import gazepoint\n",
    "from reachy import Leachy\n",
    "from pypot.robot.remote import from_remote\n",
    "from pypot.creatures import ik\n",
    "from ikpy.chain import Chain\n",
    "import numpy"
   ]
  },
  {
   "cell_type": "code",
   "execution_count": null,
   "metadata": {},
   "outputs": [],
   "source": [
    "leachy = from_remote('leachy.local', 4242)"
   ]
  },
  {
   "cell_type": "code",
   "execution_count": null,
   "metadata": {},
   "outputs": [],
   "source": [
    "leachy.motors"
   ]
  },
  {
   "cell_type": "code",
   "execution_count": null,
   "metadata": {},
   "outputs": [],
   "source": [
    "import os\n",
    "urdf = os.path.join(os.getcwd(), 'reachy', 'software', 'reachy', 'leachy.urdf')"
   ]
  },
  {
   "cell_type": "code",
   "execution_count": null,
   "metadata": {},
   "outputs": [],
   "source": [
    "leachy_kinematic = Chain.from_urdf_file(urdf, base_elements=['base'], last_link_vector=[0, 0, 0])"
   ]
  },
  {
   "cell_type": "code",
   "execution_count": null,
   "metadata": {},
   "outputs": [],
   "source": [
    "x_amp = 0.1 #m\n",
    "y_amp = 0.1 #m\n",
    "x_center = 0 #m\n",
    "y_center = -0.3 #m \n",
    "\n",
    "def gaze2target():\n",
    "    [x, y] = gazetracker.get_gaze_position()\n",
    "    \n",
    "    # gaze to motion\n",
    "    x = - (1 - max(min(x, 1), 0)) * x_amp\n",
    "    y = (1 - max(min(y, 1), 0)) * y_amp\n",
    "    \n",
    "    # IK target\n",
    "    goal = [0.3, x_center - x_amp/2.0 + x, y_center - y_amp/2.0 + y]\n",
    "    target = numpy.eye(4)\n",
    "    target[:3, :3] = numpy.eye(3)\n",
    "    target[:3, 3] = goal\n",
    "    \n",
    "    return target\n",
    "\n",
    "rest_pos = [0] + [numpy.deg2rad(m.present_position) for m in leachy.motors] + [0]\n",
    "\n",
    "def follow_gaze():\n",
    "    target = gaze2target()\n",
    "    # start from current position:\n",
    "    start_pos = [0] + [numpy.deg2rad(m.present_position) for m in leachy.motors] + [0]\n",
    "    # start from defined position:\n",
    "    #start_pos = rest_pos\n",
    "    \n",
    "    joint_position = leachy_kinematic.inverse_kinematics(target, start_pos, max_iter=3)\n",
    "    \n",
    "    for m, p in zip(leachy.motors, joint_position[1: -1]):\n",
    "        m.goal_position = numpy.rad2deg(p)"
   ]
  },
  {
   "cell_type": "code",
   "execution_count": null,
   "metadata": {},
   "outputs": [],
   "source": [
    "gazetracker = gazepoint.GazePoint()"
   ]
  },
  {
   "cell_type": "code",
   "execution_count": null,
   "metadata": {},
   "outputs": [],
   "source": [
    "for m in leachy.motors:\n",
    "    m.compliant = True\n",
    "    m.moving_speed = 50"
   ]
  },
  {
   "cell_type": "code",
   "execution_count": null,
   "metadata": {},
   "outputs": [],
   "source": [
    "while True:\n",
    "    follow_gaze()"
   ]
  },
  {
   "cell_type": "code",
   "execution_count": null,
   "metadata": {},
   "outputs": [],
   "source": [
    "leachy.compliant = True"
   ]
  }
 ],
 "metadata": {
  "kernelspec": {
   "display_name": "Python 2",
   "language": "python",
   "name": "python2"
  },
  "language_info": {
   "codemirror_mode": {
    "name": "ipython",
    "version": 2
   },
   "file_extension": ".py",
   "mimetype": "text/x-python",
   "name": "python",
   "nbconvert_exporter": "python",
   "pygments_lexer": "ipython2",
   "version": "2.7.14"
  }
 },
 "nbformat": 4,
 "nbformat_minor": 2
}
