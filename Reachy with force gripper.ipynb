{
 "cells": [
  {
   "cell_type": "markdown",
   "metadata": {},
   "source": [
    "# A simple example of how to use reachy with a force gripper"
   ]
  },
  {
   "cell_type": "markdown",
   "metadata": {},
   "source": [
    "Use your custom configuration file and connect to Reachy."
   ]
  },
  {
   "cell_type": "code",
   "execution_count": null,
   "metadata": {},
   "outputs": [],
   "source": [
    "from reachy import Reachy\n",
    "\n",
    "config_path = 'my-path-to/reachy/software/reachy/configuration/reachy-force-gripper.json'\n",
    "\n",
    "r = Reachy(config=config_path,\n",
    "           luos_extension='/dev/cu.usbserial-DN05NM0F')"
   ]
  },
  {
   "cell_type": "markdown",
   "metadata": {},
   "source": [
    "Setup the force sensor. You can adjust these values if needed."
   ]
  },
  {
   "cell_type": "code",
   "execution_count": null,
   "metadata": {},
   "outputs": [],
   "source": [
    "r.force_gripper.offset = 4\n",
    "r.force_gripper.scale = 10000"
   ]
  },
  {
   "cell_type": "markdown",
   "metadata": {},
   "source": [
    "Record the grip force for 5s and plot the result"
   ]
  },
  {
   "cell_type": "code",
   "execution_count": null,
   "metadata": {},
   "outputs": [],
   "source": [
    "import time\n",
    "\n",
    "import numpy as np\n",
    "\n",
    "def rec_force(dur=5):\n",
    "    t0 = time.time()\n",
    "    l = []\n",
    "    \n",
    "    while time.time() - t0 < dur:\n",
    "        l.append(r.force_gripper.load)\n",
    "        time.sleep(0.01)\n",
    "        \n",
    "    return np.array(l)"
   ]
  },
  {
   "cell_type": "code",
   "execution_count": null,
   "metadata": {},
   "outputs": [],
   "source": [
    "%matplotlib inline\n",
    "\n",
    "import matplotlib.pyplot as plt\n",
    "\n",
    "f = rec_force()\n",
    "plt.plot(f)"
   ]
  },
  {
   "cell_type": "markdown",
   "metadata": {},
   "source": [
    "You can define a open/close function that will stop as soon as the force raises above the given threshold."
   ]
  },
  {
   "cell_type": "code",
   "execution_count": null,
   "metadata": {},
   "outputs": [],
   "source": [
    "def open_gripper():\n",
    "    r.r_gripper.compliant = False\n",
    "    r.r_gripper.goal_position = -100"
   ]
  },
  {
   "cell_type": "code",
   "execution_count": null,
   "metadata": {},
   "outputs": [],
   "source": [
    "def close_gripper(threshold=10):\n",
    "    r.r_gripper.compliant = False\n",
    "    r.r_gripper.goal_position = 100\n",
    "    \n",
    "    while abs(r.force_gripper.load) < threshold:\n",
    "        time.sleep(.01)\n",
    "        \n",
    "    r.r_gripper.goal_position = r.r_gripper.present_position + 1.5"
   ]
  },
  {
   "cell_type": "code",
   "execution_count": null,
   "metadata": {},
   "outputs": [],
   "source": []
  }
 ],
 "metadata": {
  "kernelspec": {
   "display_name": "Python 3",
   "language": "python",
   "name": "python3"
  },
  "language_info": {
   "codemirror_mode": {
    "name": "ipython",
    "version": 3
   },
   "file_extension": ".py",
   "mimetype": "text/x-python",
   "name": "python",
   "nbconvert_exporter": "python",
   "pygments_lexer": "ipython3",
   "version": "3.6.5"
  }
 },
 "nbformat": 4,
 "nbformat_minor": 2
}
