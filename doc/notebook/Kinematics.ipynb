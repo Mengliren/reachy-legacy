{
 "cells": [
  {
   "cell_type": "markdown",
   "metadata": {},
   "source": [
    "# Using Kinematics from Reachy's URDF file"
   ]
  },
  {
   "cell_type": "markdown",
   "metadata": {},
   "source": [
    "## Creating the Chain from the URDF\n",
    "\n",
    "We use the [Ikpy](https://github.com/Phylliade/ikpy) library to create the kinematic chain from the URDF. You have to specify:\n",
    "\n",
    "* the path to the URDF file\n",
    "* the base element of your chain\n",
    "* the translation vector for the end tip"
   ]
  },
  {
   "cell_type": "code",
   "execution_count": 1,
   "metadata": {},
   "outputs": [],
   "source": [
    "from ikpy.chain import Chain\n",
    "\n",
    "urdf_file = '../../hardware/URDF/robots/reachy.URDF'\n",
    "\n",
    "reachy_kinematic_chain = Chain.from_urdf_file(urdf_file, base_elements=['base'], last_link_vector=[0, 0, -0.02409])"
   ]
  },
  {
   "cell_type": "markdown",
   "metadata": {},
   "source": [
    "You can check the created chain:"
   ]
  },
  {
   "cell_type": "code",
   "execution_count": 2,
   "metadata": {},
   "outputs": [
    {
     "name": "stdout",
     "output_type": "stream",
     "text": [
      "Link name=Base link\n",
      "URDF Link shoulder_pitch :\n",
      "    Translation : [ 0.0887  0.      0.    ]\n",
      "    Orientation : [ 0.  0.  0.]\n",
      "    Rotation : [ 1.  0.  0.]\n",
      "URDF Link shoulder_roll :\n",
      "    Translation : [ 0.  0.  0.]\n",
      "    Orientation : [ 0.  0.  0.]\n",
      "    Rotation : [ 0.  1.  0.]\n",
      "URDF Link arm_yaw :\n",
      "    Translation : [ 0.  0.  0.]\n",
      "    Orientation : [ 0.  0.  0.]\n",
      "    Rotation : [ 0.  0. -1.]\n",
      "URDF Link elbow_pitch :\n",
      "    Translation : [ 0.       0.      -0.30745]\n",
      "    Orientation : [ 0.  0.  0.]\n",
      "    Rotation : [ 1.  0.  0.]\n",
      "URDF Link forearm_yaw :\n",
      "    Translation : [ 0.  0.  0.]\n",
      "    Orientation : [ 0.  0.  0.]\n",
      "    Rotation : [ 0.  0. -1.]\n",
      "URDF Link wrist_pitch :\n",
      "    Translation : [ 0.       0.      -0.22415]\n",
      "    Orientation : [ 0.  0.  0.]\n",
      "    Rotation : [ 1.  0.  0.]\n",
      "URDF Link wrist_roll :\n",
      "    Translation : [ 0.       0.      -0.03243]\n",
      "    Orientation : [ 0.  0.  0.]\n",
      "    Rotation : [ 0.  1.  0.]\n",
      "URDF Link last_joint :\n",
      "    Translation : [ 0.       0.      -0.02409]\n",
      "    Orientation : [0 0 0]\n",
      "    Rotation : [0 0 0]\n"
     ]
    }
   ],
   "source": [
    "for link in reachy_kinematic_chain.links:\n",
    "    print(link)"
   ]
  },
  {
   "cell_type": "markdown",
   "metadata": {},
   "source": [
    "## Forward kinematic"
   ]
  },
  {
   "cell_type": "markdown",
   "metadata": {},
   "source": [
    "You can then call the forward kinematic method by specifying all joint angle (in radians). You have to specify 9 joints in the case of Reachy: the 7 defined joints plus one virtual before and one virtual at the end.\n",
    "\n",
    "For instance, when setting all joints to 0 except the elbow pitch at $\\pi /2$:"
   ]
  },
  {
   "cell_type": "code",
   "execution_count": 3,
   "metadata": {},
   "outputs": [
    {
     "name": "stdout",
     "output_type": "stream",
     "text": [
      "[[  1.00000000e+00   0.00000000e+00   0.00000000e+00   8.87000000e-02]\n",
      " [  0.00000000e+00   6.12323400e-17  -1.00000000e+00   2.80670000e-01]\n",
      " [  0.00000000e+00   1.00000000e+00   6.12323400e-17  -3.07450000e-01]\n",
      " [  0.00000000e+00   0.00000000e+00   0.00000000e+00   1.00000000e+00]]\n"
     ]
    }
   ],
   "source": [
    "import numpy\n",
    "\n",
    "target = reachy_kinematic_chain.forward_kinematics(joints=[0, 0, 0, 0, numpy.pi / 2, 0, 0, 0, 0])\n",
    "print(target)"
   ]
  },
  {
   "cell_type": "markdown",
   "metadata": {},
   "source": [
    "You can then extract the rotation matrix:"
   ]
  },
  {
   "cell_type": "code",
   "execution_count": 4,
   "metadata": {},
   "outputs": [
    {
     "name": "stdout",
     "output_type": "stream",
     "text": [
      "[[  1.00000000e+00   0.00000000e+00   0.00000000e+00]\n",
      " [  0.00000000e+00   6.12323400e-17  -1.00000000e+00]\n",
      " [  0.00000000e+00   1.00000000e+00   6.12323400e-17]]\n"
     ]
    }
   ],
   "source": [
    "rot = target[:3,:3]\n",
    "print(rot)"
   ]
  },
  {
   "cell_type": "markdown",
   "metadata": {},
   "source": [
    "And the translation vector:"
   ]
  },
  {
   "cell_type": "code",
   "execution_count": 5,
   "metadata": {},
   "outputs": [
    {
     "name": "stdout",
     "output_type": "stream",
     "text": [
      "[ 0.0887   0.28067 -0.30745]\n"
     ]
    }
   ],
   "source": [
    "trans = target[:3, -1]\n",
    "print(trans)"
   ]
  },
  {
   "cell_type": "markdown",
   "metadata": {},
   "source": [
    "## Inverse kinematics"
   ]
  },
  {
   "cell_type": "markdown",
   "metadata": {},
   "source": [
    "You can also use the inverse kinematics to find the joint angles from a target. The target must be passed as a 4x4 homogeneous matrix."
   ]
  },
  {
   "cell_type": "code",
   "execution_count": 6,
   "metadata": {},
   "outputs": [],
   "source": [
    "rot = numpy.eye(3)\n",
    "trans = [0.09, 0.28, -0.30]\n",
    "\n",
    "target = numpy.eye(4)\n",
    "target[:3, :3] = rot\n",
    "target[:3, 3] = trans"
   ]
  },
  {
   "cell_type": "code",
   "execution_count": 7,
   "metadata": {},
   "outputs": [
    {
     "name": "stdout",
     "output_type": "stream",
     "text": [
      "[  0.00000000e+00   7.14763144e-03  -2.55850846e-03   1.86224990e-03\n",
      "   1.52041601e+00   1.98270940e-04   3.51105901e-01  -2.51770154e-04\n",
      "   0.00000000e+00]\n"
     ]
    }
   ],
   "source": [
    "joints = reachy_kinematic_chain.inverse_kinematics(target)\n",
    "print(joints)"
   ]
  },
  {
   "cell_type": "markdown",
   "metadata": {},
   "source": [
    "You can also specify an initial position for the inverse kinematics optimisation. This will drastically speed up the process and help find better solutions."
   ]
  },
  {
   "cell_type": "code",
   "execution_count": 8,
   "metadata": {},
   "outputs": [
    {
     "data": {
      "text/plain": [
       "array([  0.00000000e+00,  -1.85346738e-03,  -2.32092556e-03,\n",
       "         2.14035908e-03,   1.59807828e+00,  -1.12704228e-06,\n",
       "         5.50496474e-03,  -1.84079641e-04,   0.00000000e+00])"
      ]
     },
     "execution_count": 8,
     "metadata": {},
     "output_type": "execute_result"
    }
   ],
   "source": [
    "joints = reachy_kinematic_chain.inverse_kinematics(target, initial_position=[0, 0, 0, 0, numpy.pi/2, 0, 0, 0, 0])\n",
    "joints"
   ]
  },
  {
   "cell_type": "markdown",
   "metadata": {},
   "source": [
    "### You can find more information on Ikpy documentation: https://github.com/Phylliade/ikpy"
   ]
  }
 ],
 "metadata": {
  "kernelspec": {
   "display_name": "reachy",
   "language": "python",
   "name": "reachy"
  },
  "language_info": {
   "codemirror_mode": {
    "name": "ipython",
    "version": 3
   },
   "file_extension": ".py",
   "mimetype": "text/x-python",
   "name": "python",
   "nbconvert_exporter": "python",
   "pygments_lexer": "ipython3",
   "version": "3.6.3"
  }
 },
 "nbformat": 4,
 "nbformat_minor": 2
}
