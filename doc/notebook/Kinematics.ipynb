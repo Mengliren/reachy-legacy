{
 "cells": [
  {
   "cell_type": "markdown",
   "metadata": {},
   "source": [
    "# Using Kinematics from Reachy's URDF file"
   ]
  },
  {
   "cell_type": "markdown",
   "metadata": {},
   "source": [
    "## Creating the Chain from the URDF\n",
    "\n",
    "We use the [Ikpy](https://github.com/Phylliade/ikpy) library to create the kinematic chain from the URDF. You have to specify:\n",
    "\n",
    "* the path to the URDF file\n",
    "* the base element of your chain\n",
    "* the translation vector for the end tip"
   ]
  },
  {
   "cell_type": "code",
   "execution_count": 1,
   "metadata": {
    "collapsed": false
   },
   "outputs": [],
   "source": [
    "from ikpy.chain import Chain\n",
    "\n",
    "urdf_file = '../dev/reachy/software/reachy/reachy.URDF'\n",
    "\n",
    "reachy_kinematic_chain = Chain.from_urdf_file(urdf_file, base_elements=['base'], last_link_vector=[0, 0, -0.02409])"
   ]
  },
  {
   "cell_type": "markdown",
   "metadata": {},
   "source": [
    "You can check the created chain:"
   ]
  },
  {
   "cell_type": "code",
   "execution_count": 2,
   "metadata": {
    "collapsed": false
   },
   "outputs": [
    {
     "name": "stdout",
     "output_type": "stream",
     "text": [
      "Link name=Base link\n",
      "URDF Link shoulder_pitch :\n",
      "    Translation : [ 0.     -0.0887  0.    ]\n",
      "    Orientation : [ 0.  0.  0.]\n",
      "    Rotation : [ 0.  1.  0.]\n",
      "URDF Link shoulder_roll :\n",
      "    Translation : [ 0.  0.  0.]\n",
      "    Orientation : [ 0.  0.  0.]\n",
      "    Rotation : [ 1.  0.  0.]\n",
      "URDF Link arm_yaw :\n",
      "    Translation : [ 0.  0.  0.]\n",
      "    Orientation : [ 0.  0.  0.]\n",
      "    Rotation : [ 0.  0.  1.]\n",
      "URDF Link elbow_pitch :\n",
      "    Translation : [ 0.       0.      -0.30745]\n",
      "    Orientation : [ 0.  0.  0.]\n",
      "    Rotation : [ 0.  1.  0.]\n",
      "URDF Link forearm_yaw :\n",
      "    Translation : [ 0.  0.  0.]\n",
      "    Orientation : [ 0.  0.  0.]\n",
      "    Rotation : [ 0.  0.  1.]\n",
      "URDF Link wrist_pitch :\n",
      "    Translation : [ 0.       0.      -0.22415]\n",
      "    Orientation : [ 0.  0.  0.]\n",
      "    Rotation : [ 0.  1.  0.]\n",
      "URDF Link wrist_roll :\n",
      "    Translation : [ 0.       0.      -0.03243]\n",
      "    Orientation : [ 0.  0.  0.]\n",
      "    Rotation : [ 1.  0.  0.]\n",
      "URDF Link last_joint :\n",
      "    Translation : [ 0.       0.      -0.02409]\n",
      "    Orientation : [0 0 0]\n",
      "    Rotation : [0 0 0]\n"
     ]
    }
   ],
   "source": [
    "for link in reachy_kinematic_chain.links:\n",
    "    print(link)"
   ]
  },
  {
   "cell_type": "markdown",
   "metadata": {},
   "source": [
    "## Forward kinematic"
   ]
  },
  {
   "cell_type": "markdown",
   "metadata": {},
   "source": [
    "You can then call the forward kinematic method by specifying all joint angle (in radians). You have to specify 9 joints in the case of Reachy: the 7 defined joints plus one virtual before and one virtual at the end.\n",
    "\n",
    "For instance, when setting all joints to 0 except the elbow pitch at $\\pi /2$:"
   ]
  },
  {
   "cell_type": "code",
   "execution_count": 3,
   "metadata": {
    "collapsed": false
   },
   "outputs": [
    {
     "name": "stdout",
     "output_type": "stream",
     "text": [
      "[[  6.12323400e-17   0.00000000e+00  -1.00000000e+00   2.80670000e-01]\n",
      " [  0.00000000e+00   1.00000000e+00   0.00000000e+00  -8.87000000e-02]\n",
      " [  1.00000000e+00   0.00000000e+00   6.12323400e-17  -3.07450000e-01]\n",
      " [  0.00000000e+00   0.00000000e+00   0.00000000e+00   1.00000000e+00]]\n"
     ]
    }
   ],
   "source": [
    "import numpy\n",
    "\n",
    "target = reachy_kinematic_chain.forward_kinematics(joints=[0, 0, 0, 0, -numpy.pi / 2, 0, 0, 0, 0])\n",
    "print(target)"
   ]
  },
  {
   "cell_type": "markdown",
   "metadata": {},
   "source": [
    "You can then extract the rotation matrix:"
   ]
  },
  {
   "cell_type": "code",
   "execution_count": 4,
   "metadata": {
    "collapsed": false
   },
   "outputs": [
    {
     "name": "stdout",
     "output_type": "stream",
     "text": [
      "[[  6.12323400e-17   0.00000000e+00  -1.00000000e+00]\n",
      " [  0.00000000e+00   1.00000000e+00   0.00000000e+00]\n",
      " [  1.00000000e+00   0.00000000e+00   6.12323400e-17]]\n"
     ]
    }
   ],
   "source": [
    "rot = target[:3,:3]\n",
    "print(rot)"
   ]
  },
  {
   "cell_type": "markdown",
   "metadata": {},
   "source": [
    "And the translation vector:"
   ]
  },
  {
   "cell_type": "code",
   "execution_count": 5,
   "metadata": {
    "collapsed": false
   },
   "outputs": [
    {
     "name": "stdout",
     "output_type": "stream",
     "text": [
      "[ 0.28067 -0.0887  -0.30745]\n"
     ]
    }
   ],
   "source": [
    "trans = target[:3, -1]\n",
    "print(trans)"
   ]
  },
  {
   "cell_type": "markdown",
   "metadata": {},
   "source": [
    "## Inverse kinematics"
   ]
  },
  {
   "cell_type": "markdown",
   "metadata": {},
   "source": [
    "You can also use the inverse kinematics to find the joint angles from a target. The target must be passed as a 4x4 homogeneous matrix."
   ]
  },
  {
   "cell_type": "code",
   "execution_count": 6,
   "metadata": {
    "collapsed": true
   },
   "outputs": [],
   "source": [
    "rot = numpy.eye(3)\n",
    "trans = [0.28, -0.09, -0.30]\n",
    "\n",
    "target = numpy.eye(4)\n",
    "target[:3, :3] = rot\n",
    "target[:3, 3] = trans"
   ]
  },
  {
   "cell_type": "code",
   "execution_count": 7,
   "metadata": {
    "collapsed": false
   },
   "outputs": [
    {
     "name": "stdout",
     "output_type": "stream",
     "text": [
      "[  0.00000000e+00  -7.14762238e-03  -2.55830602e-03  -1.86245948e-03\n",
      "  -1.52041605e+00  -1.98370222e-04  -3.51105804e-01  -2.51860806e-04\n",
      "   0.00000000e+00]\n"
     ]
    }
   ],
   "source": [
    "joints = reachy_kinematic_chain.inverse_kinematics(target)\n",
    "print(joints)"
   ]
  },
  {
   "cell_type": "markdown",
   "metadata": {},
   "source": [
    "You can also specify an initial position for the inverse kinematics optimisation. This will drastically speed up the process and help find better solutions."
   ]
  },
  {
   "cell_type": "code",
   "execution_count": 8,
   "metadata": {
    "collapsed": false
   },
   "outputs": [
    {
     "data": {
      "text/plain": [
       "array([  0.00000000e+00,   1.85346225e-03,  -2.32089073e-03,\n",
       "        -2.14040571e-03,  -1.59807829e+00,   1.12758811e-06,\n",
       "        -5.50495729e-03,  -1.84077261e-04,   0.00000000e+00])"
      ]
     },
     "execution_count": 8,
     "metadata": {},
     "output_type": "execute_result"
    }
   ],
   "source": [
    "joints = reachy_kinematic_chain.inverse_kinematics(target, initial_position=[0, 0, 0, 0, -numpy.pi/2, 0, 0, 0, 0])\n",
    "joints"
   ]
  },
  {
   "cell_type": "markdown",
   "metadata": {},
   "source": [
    "## Use it with reachy"
   ]
  },
  {
   "cell_type": "code",
   "execution_count": 9,
   "metadata": {
    "collapsed": true
   },
   "outputs": [],
   "source": [
    "from reachy import Reachy\n",
    "\n",
    "reachy = Reachy()"
   ]
  },
  {
   "cell_type": "code",
   "execution_count": 10,
   "metadata": {
    "collapsed": true
   },
   "outputs": [],
   "source": [
    "def goto(joints):\n",
    "    for m, j in zip(reachy.motors, joints[1:-1]):\n",
    "        m.goal_position = numpy.rad2deg(j)"
   ]
  },
  {
   "cell_type": "code",
   "execution_count": 13,
   "metadata": {
    "collapsed": true
   },
   "outputs": [],
   "source": [
    "for m in reachy.motors:\n",
    "    m.compliant = False\n",
    "    m.moving_speed = 50"
   ]
  },
  {
   "cell_type": "code",
   "execution_count": 14,
   "metadata": {
    "collapsed": true
   },
   "outputs": [],
   "source": [
    "goto(joints)"
   ]
  },
  {
   "cell_type": "markdown",
   "metadata": {},
   "source": [
    "### You can find more information on Ikpy documentation: https://github.com/Phylliade/ikpy"
   ]
  }
 ],
 "metadata": {
  "kernelspec": {
   "display_name": "Python 2",
   "language": "python",
   "name": "python2"
  },
  "language_info": {
   "codemirror_mode": {
    "name": "ipython",
    "version": 2
   },
   "file_extension": ".py",
   "mimetype": "text/x-python",
   "name": "python",
   "nbconvert_exporter": "python",
   "pygments_lexer": "ipython2",
   "version": "2.7.10"
  }
 },
 "nbformat": 4,
 "nbformat_minor": 2
}
