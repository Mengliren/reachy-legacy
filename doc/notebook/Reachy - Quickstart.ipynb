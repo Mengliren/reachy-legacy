{
 "cells": [
  {
   "cell_type": "markdown",
   "metadata": {},
   "source": [
    "# Discover your Reachy robot"
   ]
  },
  {
   "cell_type": "markdown",
   "metadata": {},
   "source": [
    "This notebook will show you how to start with your Reachy robot and how to start working with it. You will see how you can:\n",
    "\n",
    "* start your Robot\n",
    "* read values from the sensor\n",
    "* send motor commands\n",
    "* start higher level behaviors\n",
    "\n",
    "*Note that the code of this notebook will actually run in the raspberry pi of the robot and not on your computer. If you are not familiar with the [jupyter notebook](http://jupyter.org/) interface, you can refer to their excellent documentation: http://jupyter.org/documentation.html*"
   ]
  },
  {
   "cell_type": "markdown",
   "metadata": {},
   "source": [
    "## Start your Reachy robot"
   ]
  },
  {
   "cell_type": "markdown",
   "metadata": {},
   "source": [
    "The first step before working with your reachy robot is to setup the connection with the hardware (the motors and sensors). To do that you simply have to run the two following line of codes:"
   ]
  },
  {
   "cell_type": "code",
   "execution_count": 1,
   "metadata": {
    "collapsed": false
   },
   "outputs": [],
   "source": [
    "# Import the reachy library.\n",
    "from reachy import Reachy\n",
    "\n",
    "# Setup the communication used to handle the communication with the hardware.\n",
    "reachy = Reachy()"
   ]
  },
  {
   "cell_type": "markdown",
   "metadata": {},
   "source": [
    "If everything goes well you should now be connected to your robot. The values are automatically synced between the hardware on your Robot object.\n",
    "\n",
    "*Beware that you cannot have two instances connected to the same robot at the same time!*"
   ]
  },
  {
   "cell_type": "markdown",
   "metadata": {},
   "source": [
    "## Read sensor values"
   ]
  },
  {
   "cell_type": "markdown",
   "metadata": {},
   "source": [
    "You can simply read values from the motors/sensors. For instance, if you want to display the current position of the shoulder pitch motor you can use the following code:"
   ]
  },
  {
   "cell_type": "code",
   "execution_count": 2,
   "metadata": {
    "collapsed": false
   },
   "outputs": [
    {
     "name": "stdout",
     "output_type": "stream",
     "text": [
      "-1.74\n"
     ]
    }
   ],
   "source": [
    "print(reachy.shoulder_pitch.present_position)"
   ]
  },
  {
   "cell_type": "markdown",
   "metadata": {},
   "source": [
    "Note that you can directly access motor by their name:"
   ]
  },
  {
   "cell_type": "code",
   "execution_count": 3,
   "metadata": {
    "collapsed": false
   },
   "outputs": [
    {
     "name": "stdout",
     "output_type": "stream",
     "text": [
      "<DxlMotor name=arm_yaw id=12 pos=-6.55>\n"
     ]
    }
   ],
   "source": [
    "print(reachy.arm_yaw)"
   ]
  },
  {
   "cell_type": "markdown",
   "metadata": {},
   "source": [
    "You can also retrieve all motors using:"
   ]
  },
  {
   "cell_type": "code",
   "execution_count": 4,
   "metadata": {
    "collapsed": false
   },
   "outputs": [
    {
     "name": "stdout",
     "output_type": "stream",
     "text": [
      "[<DxlMotor name=shoulder_pitch id=10 pos=-1.82>, <DxlMotor name=shoulder_roll id=11 pos=3.19>, <DxlMotor name=arm_yaw id=12 pos=-6.55>, <DxlMotor name=elbow_pitch id=13 pos=-0.04>, <DxlMotor name=forearm_yaw id=14 pos=-1.03>, <DxlMotor name=wrist_pitch id=15 pos=52.05>, <DxlMotor name=wrist_roll id=16 pos=2.49>]\n"
     ]
    }
   ],
   "source": [
    "print(reachy.motors)"
   ]
  },
  {
   "cell_type": "markdown",
   "metadata": {},
   "source": [
    "This can be used to display the current position of all motors:"
   ]
  },
  {
   "cell_type": "code",
   "execution_count": 5,
   "metadata": {
    "collapsed": false
   },
   "outputs": [
    {
     "name": "stdout",
     "output_type": "stream",
     "text": [
      "The motor \"shoulder_pitch\" is currently in position: -1.820000\n",
      "The motor \"shoulder_roll\" is currently in position: 3.100000\n",
      "The motor \"arm_yaw\" is currently in position: -6.550000\n",
      "The motor \"elbow_pitch\" is currently in position: -0.040000\n",
      "The motor \"forearm_yaw\" is currently in position: -1.030000\n",
      "The motor \"wrist_pitch\" is currently in position: 52.640000\n",
      "The motor \"wrist_roll\" is currently in position: 2.490000\n"
     ]
    }
   ],
   "source": [
    "for motor in reachy.motors:\n",
    "    print('The motor \"%s\" is currently in position: %f' % (motor.name, motor.present_position))"
   ]
  },
  {
   "cell_type": "markdown",
   "metadata": {},
   "source": [
    "You can similarly access other sensing values like:\n",
    "\n",
    "* present_position\n",
    "* present_speed\n",
    "* present_load\n",
    "* present_temperature\n",
    "\n",
    "For instance:"
   ]
  },
  {
   "cell_type": "code",
   "execution_count": 6,
   "metadata": {
    "collapsed": false
   },
   "outputs": [
    {
     "name": "stdout",
     "output_type": "stream",
     "text": [
      "0.0\n"
     ]
    }
   ],
   "source": [
    "print(reachy.elbow_pitch.present_speed)"
   ]
  },
  {
   "cell_type": "markdown",
   "metadata": {},
   "source": [
    "## Send motor commands"
   ]
  },
  {
   "cell_type": "markdown",
   "metadata": {},
   "source": [
    "Before trying to move Reachy motors you should make sure that they are in stiff mode. Dynamixel motors have two modes:\n",
    "\n",
    "* compliant: where you can freely move the motors by hand (for instance for demonstration, see below)\n",
    "* stiff: where the motor is hard and can be controlled\n",
    "\n",
    "So here we want to change them to stiff mode (actually we will set them to not compliant):"
   ]
  },
  {
   "cell_type": "code",
   "execution_count": 7,
   "metadata": {
    "collapsed": true
   },
   "outputs": [],
   "source": [
    "for motor in reachy.motors:\n",
    "    motor.compliant = False"
   ]
  },
  {
   "cell_type": "markdown",
   "metadata": {},
   "source": [
    "You can send motor commands in a similar way. For instance to change the position of the shoulder_roll motor:"
   ]
  },
  {
   "cell_type": "code",
   "execution_count": 8,
   "metadata": {
    "collapsed": true
   },
   "outputs": [],
   "source": [
    "reachy.shoulder_roll.goal_position = 30 # in degrees"
   ]
  },
  {
   "cell_type": "markdown",
   "metadata": {},
   "source": [
    "*Be careful that the \"actual\" value is named present_position while the asked one is goal_position*. "
   ]
  },
  {
   "cell_type": "markdown",
   "metadata": {},
   "source": [
    "Depending on how you control the motors, the movements can be shaky. A good way to prevent this is to set the maximum speed for a motor:"
   ]
  },
  {
   "cell_type": "code",
   "execution_count": 9,
   "metadata": {
    "collapsed": true
   },
   "outputs": [],
   "source": [
    "reachy.shoulder_roll.moving_speed = 50 # in rpm"
   ]
  },
  {
   "cell_type": "markdown",
   "metadata": {},
   "source": [
    "Note that in dynamixel motors the maximum speed is named \"moving_speed\"."
   ]
  },
  {
   "cell_type": "code",
   "execution_count": 10,
   "metadata": {
    "collapsed": true
   },
   "outputs": [],
   "source": [
    "reachy.shoulder_roll.goal_position = 0"
   ]
  },
  {
   "cell_type": "markdown",
   "metadata": {},
   "source": [
    "The movement should now be smoother."
   ]
  },
  {
   "cell_type": "markdown",
   "metadata": {},
   "source": [
    "You can also use the *torque_limit* register (expressed in %) to prevent the motor from forcing too much:"
   ]
  },
  {
   "cell_type": "code",
   "execution_count": 11,
   "metadata": {
    "collapsed": true
   },
   "outputs": [],
   "source": [
    "reachy.shoulder_pitch.torque_limit = 75"
   ]
  },
  {
   "cell_type": "markdown",
   "metadata": {},
   "source": [
    "## Higher level behaviors"
   ]
  },
  {
   "cell_type": "markdown",
   "metadata": {},
   "source": [
    "### Apply sinus and plot the trajectories"
   ]
  },
  {
   "cell_type": "markdown",
   "metadata": {},
   "source": [
    "The next example shows you how to apply a sinusoid on a motor:"
   ]
  },
  {
   "cell_type": "code",
   "execution_count": 12,
   "metadata": {
    "collapsed": true
   },
   "outputs": [],
   "source": [
    "from time import time, sleep\n",
    "from numpy import sin, pi\n",
    "\n",
    "duration = 10 # in sec.\n",
    "freq = 0.5 # in Hz\n",
    "amp = 30 # in degrees\n",
    "\n",
    "update_frequency = 50 # in Hz - meaning how fast we will send motor commands\n",
    "\n",
    "start = time()\n",
    "while time() - start < duration:\n",
    "    target_pos = amp * sin(2 * pi * freq * time())\n",
    "    reachy.arm_yaw.goal_position = target_pos\n",
    "    \n",
    "    sleep(1.0 / update_frequency)"
   ]
  },
  {
   "cell_type": "markdown",
   "metadata": {},
   "source": [
    "You can modify the example to also record its real and target position during the motion:"
   ]
  },
  {
   "cell_type": "code",
   "execution_count": 13,
   "metadata": {
    "collapsed": true
   },
   "outputs": [],
   "source": [
    "from time import time, sleep\n",
    "from numpy import sin, pi\n",
    "\n",
    "duration = 10 # in sec.\n",
    "freq = 0.5 # in Hz\n",
    "amp = 30 # in degrees\n",
    "\n",
    "update_frequency = 50 # in Hz - meaning how fast we will send motor commands\n",
    "\n",
    "start = time()\n",
    "\n",
    "real_pos = []\n",
    "goal_pos = []\n",
    "\n",
    "while time() - start < duration:\n",
    "    target_pos = amp * sin(2 * pi * freq * time())\n",
    "    reachy.arm_yaw.goal_position = target_pos\n",
    "    \n",
    "    real_pos.append(reachy.arm_yaw.present_position)\n",
    "    goal_pos.append(reachy.arm_yaw.goal_position)\n",
    "    \n",
    "    sleep(1.0 / update_frequency)"
   ]
  },
  {
   "cell_type": "markdown",
   "metadata": {},
   "source": [
    "And then plot it using a dedicated library:"
   ]
  },
  {
   "cell_type": "code",
   "execution_count": 14,
   "metadata": {
    "collapsed": false
   },
   "outputs": [
    {
     "data": {
      "text/plain": [
       "<matplotlib.legend.Legend at 0x75ab3d10>"
      ]
     },
     "execution_count": 14,
     "metadata": {},
     "output_type": "execute_result"
    },
    {
     "data": {
      "image/png": "[encoded data removed]",
      "text/plain": [
       "<matplotlib.figure.Figure at 0x75ab34f0>"
      ]
     },
     "metadata": {},
     "output_type": "display_data"
    }
   ],
   "source": [
    "%matplotlib inline\n",
    "\n",
    "from matplotlib import pylab as plt\n",
    "from numpy import linspace\n",
    "\n",
    "t = linspace(0, 10, len(real_pos))\n",
    "\n",
    "plt.plot(t, real_pos)\n",
    "plt.plot(t, goal_pos)\n",
    "\n",
    "plt.legend(('real position', 'goal position'))"
   ]
  },
  {
   "cell_type": "markdown",
   "metadata": {},
   "source": [
    "You can thus see the lag between the motor command and its reach."
   ]
  },
  {
   "cell_type": "markdown",
   "metadata": {},
   "source": [
    "### Using physical demonstrations"
   ]
  },
  {
   "cell_type": "markdown",
   "metadata": {},
   "source": [
    "As stated above, dynamixel motors have a compliant mode where they can be freely moved. You can change them to compliant mode using:"
   ]
  },
  {
   "cell_type": "code",
   "execution_count": 15,
   "metadata": {
    "collapsed": true
   },
   "outputs": [],
   "source": [
    "for motor in reachy.motors:\n",
    "    motor.compliant = True"
   ]
  },
  {
   "cell_type": "markdown",
   "metadata": {},
   "source": [
    "You should now be able to freely move the robot. This can be useful for recording demonstrations. This means you can still record the *present_position* of the motor while they are in compliant mode and then apply these trajectories again when they are in stiff mode to reproduce the demo."
   ]
  },
  {
   "cell_type": "markdown",
   "metadata": {},
   "source": [
    "Reachy provides high level commands to do that. You can start a new demonstration by using:"
   ]
  },
  {
   "cell_type": "code",
   "execution_count": 16,
   "metadata": {
    "collapsed": false
   },
   "outputs": [],
   "source": [
    "reachy.record.start()"
   ]
  },
  {
   "cell_type": "markdown",
   "metadata": {},
   "source": [
    "And then all movements applied to the motors are recorded. When you want to stop the recording you can do:"
   ]
  },
  {
   "cell_type": "code",
   "execution_count": 17,
   "metadata": {
    "collapsed": true
   },
   "outputs": [],
   "source": [
    "reachy.record.stop()"
   ]
  },
  {
   "cell_type": "markdown",
   "metadata": {},
   "source": [
    "The motors turn stiff again so you can reproduce the demonstration using:"
   ]
  },
  {
   "cell_type": "code",
   "execution_count": 18,
   "metadata": {
    "collapsed": true
   },
   "outputs": [],
   "source": [
    "reachy.play.start()"
   ]
  },
  {
   "cell_type": "markdown",
   "metadata": {},
   "source": [
    "*Be careful that playing recorded movements will change the maximum_speed of your motors!*"
   ]
  }
 ],
 "metadata": {
  "kernelspec": {
   "display_name": "Python 2",
   "language": "python",
   "name": "python2"
  },
  "language_info": {
   "codemirror_mode": {
    "name": "ipython",
    "version": 2
   },
   "file_extension": ".py",
   "mimetype": "text/x-python",
   "name": "python",
   "nbconvert_exporter": "python",
   "pygments_lexer": "ipython2",
   "version": "2.7.10"
  }
 },
 "nbformat": 4,
 "nbformat_minor": 0
}
