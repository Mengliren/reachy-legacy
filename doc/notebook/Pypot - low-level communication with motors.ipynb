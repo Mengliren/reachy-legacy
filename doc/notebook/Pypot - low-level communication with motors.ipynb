{
 "cells": [
  {
   "cell_type": "markdown",
   "metadata": {},
   "source": [
    "# Using Pypot for low-level communication with dynamixel motors"
   ]
  },
  {
   "cell_type": "markdown",
   "metadata": {},
   "source": [
    "You will need to use Python >= 2.7 or >= 3.4. \n",
    "\n",
    "It works on Mac/Win/Linux but serial drivers tends to be better supported on Unix system."
   ]
  },
  {
   "cell_type": "markdown",
   "metadata": {},
   "source": [
    "## Installation"
   ]
  },
  {
   "cell_type": "markdown",
   "metadata": {},
   "source": [
    "- via pip: ```pip install pypot```\n",
    "- via the source if you prefer: https://github.com/poppy-project/pypot/"
   ]
  },
  {
   "cell_type": "markdown",
   "metadata": {},
   "source": [
    "Make sure you are using a recent version >3.1!"
   ]
  },
  {
   "cell_type": "code",
   "execution_count": 2,
   "metadata": {},
   "outputs": [
    {
     "name": "stdout",
     "output_type": "stream",
     "text": [
      "3.1.1\n"
     ]
    }
   ],
   "source": [
    "import pypot\n",
    "\n",
    "print(pypot.__version__)"
   ]
  },
  {
   "cell_type": "markdown",
   "metadata": {},
   "source": [
    "## Dynamixel protocol"
   ]
  },
  {
   "cell_type": "markdown",
   "metadata": {},
   "source": [
    "Two different kinds of IO:\n",
    "- DxlIO\n",
    "- Dxl320IO"
   ]
  },
  {
   "cell_type": "markdown",
   "metadata": {},
   "source": [
    "- The first one is for protocol one (AX, MX, RX motors). It's the one used by Reachy.\n",
    "- The second one is used for XL320 motors and protocol 2. \n",
    "\n",
    "Different protocol but basically the same idea behind."
   ]
  },
  {
   "cell_type": "markdown",
   "metadata": {},
   "source": [
    "### Some examples using protocol 1"
   ]
  },
  {
   "cell_type": "code",
   "execution_count": 4,
   "metadata": {},
   "outputs": [],
   "source": [
    "import pypot.dynamixel.protocol.v1 as protocol"
   ]
  },
  {
   "cell_type": "code",
   "execution_count": 5,
   "metadata": {},
   "outputs": [],
   "source": [
    "protocol.DxlPingPacket?"
   ]
  },
  {
   "cell_type": "markdown",
   "metadata": {},
   "source": [
    "All motors should have a unique id. The idea is a number from 1 to 253. Don't go out range!"
   ]
  },
  {
   "cell_type": "code",
   "execution_count": 6,
   "metadata": {},
   "outputs": [],
   "source": [
    "packet = protocol.DxlPingPacket(23)"
   ]
  },
  {
   "cell_type": "code",
   "execution_count": 14,
   "metadata": {},
   "outputs": [
    {
     "data": {
      "text/plain": [
       "[255, 255, 23, 2, 1, 229]"
      ]
     },
     "execution_count": 14,
     "metadata": {},
     "output_type": "execute_result"
    }
   ],
   "source": [
    "[int(b) for b in packet.to_array()]"
   ]
  },
  {
   "cell_type": "markdown",
   "metadata": {},
   "source": [
    "In more details:\n",
    "\n",
    "- [255, 255, 23, 2] is the header (target id=23, data length=2)\n",
    "- 1 is the instruction code (PING)\n",
    "- 229 is the CRC"
   ]
  },
  {
   "cell_type": "code",
   "execution_count": 19,
   "metadata": {},
   "outputs": [
    {
     "data": {
      "text/plain": [
       "[255, 255, 2, 4, 2, 36, 2, 209]"
      ]
     },
     "execution_count": 19,
     "metadata": {},
     "output_type": "execute_result"
    }
   ],
   "source": [
    "packet = protocol.DxlReadDataPacket(id=2, address=0x24, length=2)\n",
    "[int(b) for b in packet.to_array()]"
   ]
  },
  {
   "cell_type": "markdown",
   "metadata": {},
   "source": [
    "In more details:\n",
    "- [255, 255, 2, 4] is the header (target id=2, data length=4)\n",
    "- 2 is the instruction code (READ_DATA)\n",
    "- 36 is the register address\n",
    "- 2 is the register length\n",
    "- 209 is the CRC"
   ]
  },
  {
   "cell_type": "markdown",
   "metadata": {},
   "source": [
    "Motors answer with similar kind of packet. They are called StatusPacket."
   ]
  },
  {
   "cell_type": "markdown",
   "metadata": {},
   "source": [
    "Not so easy to understand :-)"
   ]
  },
  {
   "cell_type": "markdown",
   "metadata": {},
   "source": [
    "## Connecting to a motor bus"
   ]
  },
  {
   "cell_type": "code",
   "execution_count": 21,
   "metadata": {},
   "outputs": [],
   "source": [
    "from pypot.dynamixel import DxlIO"
   ]
  },
  {
   "cell_type": "markdown",
   "metadata": {},
   "source": [
    "DxlIO wraps a USB to serial communication with dynamixel protocol. Reachy motors are configured to use 1M bauds."
   ]
  },
  {
   "cell_type": "code",
   "execution_count": 22,
   "metadata": {},
   "outputs": [],
   "source": [
    "io = DxlIO(port='...', baudrate=1000000)"
   ]
  },
  {
   "cell_type": "markdown",
   "metadata": {},
   "source": [
    "You need to find the name of the serial port you will use. It depends on your OS. On windows you may also have to install a specific driver for the dongle we are using: USB2AX. On Mac/Linux it should directly work."
   ]
  },
  {
   "cell_type": "markdown",
   "metadata": {},
   "source": [
    "## Knowing your id"
   ]
  },
  {
   "cell_type": "markdown",
   "metadata": {},
   "source": [
    "You first need to find your motor id. This is mandataroy as in the dynamixel protocol all messages must have a target id."
   ]
  },
  {
   "cell_type": "markdown",
   "metadata": {},
   "source": [
    "You can use the scan method to search for id. It will basically ping the whole range of ids and wait for answer. It can take a bit of time, as it waits for timeout."
   ]
  },
  {
   "cell_type": "code",
   "execution_count": null,
   "metadata": {},
   "outputs": [],
   "source": [
    "ids = io.scan()\n",
    "print(ids)"
   ]
  },
  {
   "cell_type": "markdown",
   "metadata": {},
   "source": [
    "If you know the range of id, you can make it faster."
   ]
  },
  {
   "cell_type": "code",
   "execution_count": null,
   "metadata": {},
   "outputs": [],
   "source": [
    "ids = io.scan(range(10, 20))\n",
    "print(ids)"
   ]
  },
  {
   "cell_type": "markdown",
   "metadata": {},
   "source": [
    "*Be careful, if you send a message to an id that does not correspond to a motor, pypot will actually wait for the timeout to fire and you will get a timeout exception. This can really slow down your communication with the motors.*"
   ]
  },
  {
   "cell_type": "markdown",
   "metadata": {},
   "source": [
    "**Never uses motors with the same id on a single bus. Both motors will try to answer at about the same time resulting in collision and inpredictible communication.**"
   ]
  },
  {
   "cell_type": "markdown",
   "metadata": {},
   "source": [
    "## Reading values"
   ]
  },
  {
   "cell_type": "markdown",
   "metadata": {},
   "source": [
    "Now that you know the id, you can reading for a motor register. Instead of building yourself the ReadData Packet, pypot handles that for you. You actually don't need to know the address or length of register, but simply its name."
   ]
  },
  {
   "cell_type": "code",
   "execution_count": null,
   "metadata": {},
   "outputs": [],
   "source": [
    "io.get_present_position(ids)"
   ]
  },
  {
   "cell_type": "markdown",
   "metadata": {},
   "source": [
    "To speedup communication, pypot uses list of ids instead of a single id. In the background it uses a more complex instruction that reads the same regsiter for all motors. It's faster than asking them one by one."
   ]
  },
  {
   "cell_type": "markdown",
   "metadata": {},
   "source": [
    "You can still read the register of a single motor."
   ]
  },
  {
   "cell_type": "code",
   "execution_count": null,
   "metadata": {},
   "outputs": [],
   "source": [
    "io.get_present_position([21])"
   ]
  },
  {
   "cell_type": "markdown",
   "metadata": {},
   "source": [
    "Motor have a lot of different regsiters. You can find them in the documentation: http://poppy-project.github.io/pypot/pypot.dynamixel.html#module-pypot.dynamixel.io or via code completion."
   ]
  },
  {
   "cell_type": "code",
   "execution_count": null,
   "metadata": {},
   "outputs": [],
   "source": [
    "io.get_"
   ]
  },
  {
   "cell_type": "markdown",
   "metadata": {},
   "source": [
    "The most useful are:\n",
    "- present_position\n",
    "- moving_speed\n",
    "- present_load\n",
    "- present_temperature\n",
    "- is_moving"
   ]
  },
  {
   "cell_type": "markdown",
   "metadata": {},
   "source": [
    "You will find the documentation of all specific regsiters directly on Robotis dynamixel support website."
   ]
  },
  {
   "cell_type": "markdown",
   "metadata": {},
   "source": [
    "You also may have noticed that pypot use metrics system as much as possible. Position are in degree, speed in degree per second, etc. This conversion from dynamixel values is automatically done when running and ```io.get_*``` command. It can also be disabled via:"
   ]
  },
  {
   "cell_type": "code",
   "execution_count": null,
   "metadata": {},
   "outputs": [],
   "source": [
    "io.get_present_position(ids, convert=False)"
   ]
  },
  {
   "cell_type": "markdown",
   "metadata": {},
   "source": [
    "You can also ask for the model of a motor. This can be particularly useful as they have slighltly different internal constant (e.g. speed max)."
   ]
  },
  {
   "cell_type": "code",
   "execution_count": null,
   "metadata": {},
   "outputs": [],
   "source": [
    "io.get_model(ids)"
   ]
  },
  {
   "cell_type": "markdown",
   "metadata": {},
   "source": [
    "Finally, you can also read multiple registers at the same time to speed up communication. It's only working when the registers are contiguous."
   ]
  },
  {
   "cell_type": "code",
   "execution_count": null,
   "metadata": {},
   "outputs": [],
   "source": [
    "io.get_present_position_speed_load(ids)"
   ]
  },
  {
   "cell_type": "markdown",
   "metadata": {},
   "source": [
    "## Writing values"
   ]
  },
  {
   "cell_type": "markdown",
   "metadata": {},
   "source": [
    "In the same way you saw how to read specific register of motors, you can also write new values to register."
   ]
  },
  {
   "cell_type": "markdown",
   "metadata": {},
   "source": [
    "When readings values you specify a list of ids, to set new values you specify a python dictionnary with id as key and the new value you want to set as value:\n",
    "\n",
    "```\n",
    "d = {\n",
    "   id_1: val_1,\n",
    "   id_2: val_2,\n",
    "   ...\n",
    "   id_n: val_n\n",
    "  }\n",
    "```"
   ]
  },
  {
   "cell_type": "markdown",
   "metadata": {},
   "source": [
    "## Stiff vs Compliant mode"
   ]
  },
  {
   "cell_type": "markdown",
   "metadata": {},
   "source": [
    "But before being able to send values and make motor moves, there is one still important step. When plugged the motors are compliant by default. This means that they can freely be moved by hand. \n",
    "\n",
    "You can test if your motor are compliant by tring to move them by hand. You can also observe that their *present_position* is still actually changing when moved by hand."
   ]
  },
  {
   "cell_type": "markdown",
   "metadata": {},
   "source": [
    "Yet if you want to make them turn, you need to put them in stiff mode. To do that in pypot, you use a special command *enable_torque*."
   ]
  },
  {
   "cell_type": "code",
   "execution_count": null,
   "metadata": {},
   "outputs": [],
   "source": [
    "io.enable_torque(ids)"
   ]
  },
  {
   "cell_type": "markdown",
   "metadata": {},
   "source": [
    "Now you can try again to move them by hand, it should not be possible anymore."
   ]
  },
  {
   "cell_type": "markdown",
   "metadata": {},
   "source": [
    "To change the motor position you can use the *set_goal_position* method."
   ]
  },
  {
   "cell_type": "code",
   "execution_count": null,
   "metadata": {},
   "outputs": [],
   "source": [
    "# This will move  \n",
    "# the motor 2 to 0.0 degree \n",
    "# and\n",
    "# the motor 3 to 45.0 degree.\n",
    "\n",
    "io.set_goal_position({\n",
    "    2: 0.0,\n",
    "    3: 45.0,\n",
    "})"
   ]
  },
  {
   "cell_type": "markdown",
   "metadata": {},
   "source": [
    "**Note**: Maybe you noticed that to access the position we have used *present_position* and here we are using *goal_position*. This is a very important distinction for dynamixel motors.\n",
    "\n",
    "* The present_position always represents the current motor position, whenever it's moving or not. This by definition can not be set but only read.\n",
    "* The goal_position is the motor target position, meaning the position it will try to reach. This can be set to define a new target for the motor but also read for instance to measure difference between the target and the real position.\n",
    "\n",
    "Whether or not the present and goal position are the same (or close enough) depends of the motor load, the pid, if the goal position is actually reachable (inside the angle limits), etc.\n",
    "\n",
    "Some of those parameters, like the pid, can be modify using pypot as well (but use it with caution as bad values for pid can really quickly damage your motor!)."
   ]
  },
  {
   "cell_type": "markdown",
   "metadata": {},
   "source": [
    "### Moving speed or maximum speed"
   ]
  },
  {
   "cell_type": "markdown",
   "metadata": {},
   "source": [
    "You can modify the maximum speed that a motor can reach via *set_moving_speed* method. For instance:"
   ]
  },
  {
   "cell_type": "code",
   "execution_count": null,
   "metadata": {},
   "outputs": [],
   "source": [
    "io.set_moving_speed({\n",
    "    2: 50.0,\n",
    "    3: 50.0,\n",
    "})"
   ]
  },
  {
   "cell_type": "markdown",
   "metadata": {},
   "source": [
    "This command will limit the speed of motor 2 and 3 to 50 degrees per second. Depending on their model, dynamixel motors can reach up to 700 degrees per second.\n",
    "\n",
    "**It's important to note that this limit is not a physical one, depending on the pid parameters you may temporally exceed this maximum speed. But most of the time the motor will keep its speed below this value.**"
   ]
  },
  {
   "cell_type": "markdown",
   "metadata": {},
   "source": [
    "Now try to make the motor move again and you should be able to see the difference of speed."
   ]
  },
  {
   "cell_type": "markdown",
   "metadata": {},
   "source": [
    "You now have all tools needed to make your motor follow a trajectory, like for instance a Sinus."
   ]
  },
  {
   "cell_type": "code",
   "execution_count": null,
   "metadata": {},
   "outputs": [],
   "source": []
  },
  {
   "cell_type": "markdown",
   "metadata": {},
   "source": [
    "The time needed to communicate with the motors will depend on your USB2serial driver and on the number of motors plugged to the bus. Yet, a rule of thumb is to try to reach a 50Hz control. Higher control rate is actually useless as the position servoing will not react fast enough and slower control rate may result in shaky motion."
   ]
  },
  {
   "cell_type": "markdown",
   "metadata": {},
   "source": [
    "### Torque"
   ]
  },
  {
   "cell_type": "markdown",
   "metadata": {},
   "source": [
    "Among other important registers, you can also modify the torque limit of a motor via *set_torque_limit*. Here again, the motor will try to respect this consign but may exceed it."
   ]
  },
  {
   "cell_type": "code",
   "execution_count": null,
   "metadata": {},
   "outputs": [],
   "source": [
    "io.set_torque_limit({\n",
    "    3: 25.0 # expressed in % of the real maximum torque of the motor\n",
    "})"
   ]
  },
  {
   "cell_type": "markdown",
   "metadata": {},
   "source": [
    "You can also disable torque entirely to switch to compliant mode again."
   ]
  },
  {
   "cell_type": "code",
   "execution_count": null,
   "metadata": {},
   "outputs": [],
   "source": [
    "io.disable_torque(ids)"
   ]
  },
  {
   "cell_type": "markdown",
   "metadata": {},
   "source": [
    "## EEPROM and RAM"
   ]
  },
  {
   "cell_type": "markdown",
   "metadata": {},
   "source": [
    "*Note that some register are in the EEPROM part of the motor micro-controller and will be preserved even when un-plugged (such as pid or angle limits). Other like goal_position or compliancy will be reset as soon as they are unplugged.*\n",
    "\n",
    "You can find out if a regsiter is in the EEPROM or not in Robotis Dynamixel documentation."
   ]
  },
  {
   "cell_type": "markdown",
   "metadata": {},
   "source": [
    "## Configure motors utility"
   ]
  },
  {
   "cell_type": "markdown",
   "metadata": {},
   "source": [
    "Pypot also comes with the command line utility tool that you used to configure the motors for Reachy."
   ]
  }
 ],
 "metadata": {
  "kernelspec": {
   "display_name": "Python 3",
   "language": "python",
   "name": "python3"
  },
  "language_info": {
   "codemirror_mode": {
    "name": "ipython",
    "version": 3
   },
   "file_extension": ".py",
   "mimetype": "text/x-python",
   "name": "python",
   "nbconvert_exporter": "python",
   "pygments_lexer": "ipython3",
   "version": "3.6.5"
  }
 },
 "nbformat": 4,
 "nbformat_minor": 2
}
