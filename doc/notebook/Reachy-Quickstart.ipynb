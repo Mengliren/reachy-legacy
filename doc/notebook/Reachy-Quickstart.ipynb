{
 "cells": [
  {
   "cell_type": "markdown",
   "metadata": {},
   "source": [
    "# Discover your Reachy robot"
   ]
  },
  {
   "cell_type": "markdown",
   "metadata": {},
   "source": [
    "This notebook will show you how to start with your Reachy robot and how to start working with it. You will see how you can:\n",
    "\n",
    "* start your Robot\n",
    "* read values from the sensor\n",
    "* send motor commands\n",
    "* start higher level behaviors"
   ]
  },
  {
   "cell_type": "markdown",
   "metadata": {},
   "source": [
    "## Start your Reachy robot"
   ]
  },
  {
   "cell_type": "markdown",
   "metadata": {},
   "source": [
    "**Before starting, you should check in the reachy configuration that the serial port is correctly set and corresponds to your OS!**\n",
    "\n",
    "You can find where the configuration is located using:"
   ]
  },
  {
   "cell_type": "code",
   "execution_count": 7,
   "metadata": {},
   "outputs": [
    {
     "name": "stdout",
     "output_type": "stream",
     "text": [
      "/Users/pierrerouanet/dev/robot/reachy/software/build/lib/reachy/configuration\n"
     ]
    }
   ],
   "source": [
    "import os\n",
    "import reachy\n",
    "\n",
    "print(os.path.join(os.path.dirname(reachy.__file__), 'configuration'))"
   ]
  },
  {
   "cell_type": "markdown",
   "metadata": {},
   "source": [
    "There is different configuration here depending on if you are using Leachy, Reachy, with or without hand, etc."
   ]
  },
  {
   "cell_type": "markdown",
   "metadata": {},
   "source": [
    "The first step before working with your reachy robot is to setup the connection with the hardware (the motors and sensors). To do that you simply have to run the two following line of codes:"
   ]
  },
  {
   "cell_type": "code",
   "execution_count": null,
   "metadata": {},
   "outputs": [],
   "source": [
    "# Import the reachy library.\n",
    "from reachy import Reachy\n",
    "\n",
    "# Setup the communication used to handle the communication with the hardware.\n",
    "reachy = Reachy()"
   ]
  },
  {
   "cell_type": "markdown",
   "metadata": {},
   "source": [
    "If everything goes well you should now be connected to your robot. The values are automatically synced between the hardware on your Robot object. **This code will actually check that all motors are connected and correctly configured.** If it's not the case, you will see an error message."
   ]
  },
  {
   "cell_type": "markdown",
   "metadata": {},
   "source": [
    "*Beware that you cannot have two instances connected to the same robot at the same time!*"
   ]
  },
  {
   "cell_type": "markdown",
   "metadata": {},
   "source": [
    "## Use a Leachy instead"
   ]
  },
  {
   "cell_type": "markdown",
   "metadata": {},
   "source": [
    "You can also do the same for connecting to a Leachy. Simply replace in the following all occurences of *Reachy* by *Leachy* and motor name such as *r_shoulder_roll* by *l_shoulder_roll*."
   ]
  },
  {
   "cell_type": "markdown",
   "metadata": {},
   "source": [
    "## Read sensor values"
   ]
  },
  {
   "cell_type": "markdown",
   "metadata": {},
   "source": [
    "You can simply read values from the motors/sensors. For instance, if you want to display the current position of the shoulder pitch motor you can use the following code:"
   ]
  },
  {
   "cell_type": "code",
   "execution_count": null,
   "metadata": {},
   "outputs": [],
   "source": [
    "print(reachy.shoulder_pitch.present_position)"
   ]
  },
  {
   "cell_type": "markdown",
   "metadata": {},
   "source": [
    "Note that you can directly access motor by their name:"
   ]
  },
  {
   "cell_type": "code",
   "execution_count": null,
   "metadata": {},
   "outputs": [],
   "source": [
    "print(reachy.arm_yaw)"
   ]
  },
  {
   "cell_type": "markdown",
   "metadata": {},
   "source": [
    "You can also retrieve all motors using:"
   ]
  },
  {
   "cell_type": "code",
   "execution_count": null,
   "metadata": {},
   "outputs": [],
   "source": [
    "print(reachy.motors)"
   ]
  },
  {
   "cell_type": "markdown",
   "metadata": {},
   "source": [
    "This can be used to display the current position of all motors:"
   ]
  },
  {
   "cell_type": "code",
   "execution_count": null,
   "metadata": {},
   "outputs": [],
   "source": [
    "for motor in reachy.motors:\n",
    "    print('The motor \"%s\" is currently in position: %f' % (motor.name, motor.present_position))"
   ]
  },
  {
   "cell_type": "markdown",
   "metadata": {},
   "source": [
    "You can similarly access other sensing values like:\n",
    "\n",
    "* present_position\n",
    "* present_speed\n",
    "* present_load\n",
    "* present_temperature\n",
    "\n",
    "For instance:"
   ]
  },
  {
   "cell_type": "code",
   "execution_count": null,
   "metadata": {},
   "outputs": [],
   "source": [
    "print(reachy.elbow_pitch.present_speed)"
   ]
  },
  {
   "cell_type": "markdown",
   "metadata": {},
   "source": [
    "## Send motor commands"
   ]
  },
  {
   "cell_type": "markdown",
   "metadata": {},
   "source": [
    "Before trying to move Reachy motors you should make sure that they are in stiff mode. Dynamixel motors have two modes:\n",
    "\n",
    "* compliant: where you can freely move the motors by hand (for instance for demonstration, see below)\n",
    "* stiff: where the motor is hard and can be controlled\n",
    "\n",
    "So here we want to change them to stiff mode (actually we will set them to not compliant):"
   ]
  },
  {
   "cell_type": "code",
   "execution_count": null,
   "metadata": {},
   "outputs": [],
   "source": [
    "for motor in reachy.motors:\n",
    "    motor.compliant = False"
   ]
  },
  {
   "cell_type": "markdown",
   "metadata": {},
   "source": [
    "You can send motor commands in a similar way. For instance to change the position of the shoulder_roll motor:"
   ]
  },
  {
   "cell_type": "code",
   "execution_count": null,
   "metadata": {},
   "outputs": [],
   "source": [
    "reachy.shoulder_roll.goal_position = 30 # in degrees"
   ]
  },
  {
   "cell_type": "markdown",
   "metadata": {},
   "source": [
    "*Be careful that the \"actual\" value is named present_position while the asked one is goal_position*. "
   ]
  },
  {
   "cell_type": "markdown",
   "metadata": {},
   "source": [
    "Depending on how you control the motors, the movements can be shaky. A good way to prevent this is to set the maximum speed for a motor:"
   ]
  },
  {
   "cell_type": "code",
   "execution_count": null,
   "metadata": {},
   "outputs": [],
   "source": [
    "reachy.shoulder_roll.moving_speed = 50"
   ]
  },
  {
   "cell_type": "markdown",
   "metadata": {},
   "source": [
    "Note that in dynamixel motors the maximum speed is named \"moving_speed\"."
   ]
  },
  {
   "cell_type": "code",
   "execution_count": null,
   "metadata": {},
   "outputs": [],
   "source": [
    "reachy.shoulder_roll.goal_position = 0"
   ]
  },
  {
   "cell_type": "markdown",
   "metadata": {},
   "source": [
    "The movement should now be smoother."
   ]
  },
  {
   "cell_type": "markdown",
   "metadata": {},
   "source": [
    "You can also use the *torque_limit* register (expressed in %) to prevent the motor from forcing too much:"
   ]
  },
  {
   "cell_type": "code",
   "execution_count": null,
   "metadata": {},
   "outputs": [],
   "source": [
    "reachy.shoulder_pitch.torque_limit = 75"
   ]
  },
  {
   "cell_type": "markdown",
   "metadata": {},
   "source": [
    "## Move from one position to another"
   ]
  },
  {
   "cell_type": "markdown",
   "metadata": {},
   "source": [
    "Now let's try to move from one position to another one, controlling the speed."
   ]
  },
  {
   "cell_type": "code",
   "execution_count": null,
   "metadata": {},
   "outputs": [],
   "source": []
  },
  {
   "cell_type": "markdown",
   "metadata": {},
   "source": [
    "You can write your own way of doing that. You can also check *reachy.goto_position* method."
   ]
  },
  {
   "cell_type": "code",
   "execution_count": null,
   "metadata": {},
   "outputs": [],
   "source": []
  },
  {
   "cell_type": "markdown",
   "metadata": {},
   "source": [
    "## Motor loop"
   ]
  },
  {
   "cell_type": "markdown",
   "metadata": {},
   "source": [
    "You can now try to control one motor with another one...\n",
    "\n",
    "*Make sure to add some delay in your loop not to overload the background synchronisation loop. Running your loop at 50Hz is always a good value.*"
   ]
  },
  {
   "cell_type": "code",
   "execution_count": null,
   "metadata": {},
   "outputs": [],
   "source": []
  },
  {
   "cell_type": "markdown",
   "metadata": {},
   "source": [
    "## Higher level behaviors"
   ]
  },
  {
   "cell_type": "markdown",
   "metadata": {},
   "source": [
    "### Apply sinus and plot the trajectories"
   ]
  },
  {
   "cell_type": "markdown",
   "metadata": {},
   "source": [
    "The next example shows you how to apply a sinusoid on a motor:"
   ]
  },
  {
   "cell_type": "code",
   "execution_count": null,
   "metadata": {},
   "outputs": [],
   "source": [
    "from time import time, sleep\n",
    "from numpy import sin, pi\n",
    "\n",
    "duration = 10 # in sec.\n",
    "freq = 0.5 # in Hz\n",
    "amp = 30 # in degrees\n",
    "\n",
    "update_frequency = 50 # in Hz - meaning how fast we will send motor commands\n",
    "\n",
    "start = time()\n",
    "while time() - start < duration:\n",
    "    target_pos = amp * sin(2 * pi * freq * time())\n",
    "    reachy.arm_yaw.goal_position = target_pos\n",
    "    \n",
    "    sleep(1.0 / update_frequency)"
   ]
  },
  {
   "cell_type": "markdown",
   "metadata": {},
   "source": [
    "You can modify the example to also record its real and target position during the motion:"
   ]
  },
  {
   "cell_type": "code",
   "execution_count": null,
   "metadata": {},
   "outputs": [],
   "source": [
    "from time import time, sleep\n",
    "from numpy import sin, pi\n",
    "\n",
    "duration = 10 # in sec.\n",
    "freq = 0.5 # in Hz\n",
    "amp = 30 # in degrees\n",
    "\n",
    "update_frequency = 50 # in Hz - meaning how fast we will send motor commands\n",
    "\n",
    "start = time()\n",
    "\n",
    "real_pos = []\n",
    "goal_pos = []\n",
    "\n",
    "while time() - start < duration:\n",
    "    target_pos = amp * sin(2 * pi * freq * time())\n",
    "    reachy.arm_yaw.goal_position = target_pos\n",
    "    \n",
    "    real_pos.append(reachy.arm_yaw.present_position)\n",
    "    goal_pos.append(reachy.arm_yaw.goal_position)\n",
    "    \n",
    "    sleep(1.0 / update_frequency)"
   ]
  },
  {
   "cell_type": "markdown",
   "metadata": {},
   "source": [
    "And then plot it using a dedicated library:"
   ]
  },
  {
   "cell_type": "code",
   "execution_count": null,
   "metadata": {},
   "outputs": [],
   "source": [
    "%matplotlib inline\n",
    "\n",
    "from matplotlib import pylab as plt\n",
    "from numpy import linspace\n",
    "\n",
    "t = linspace(0, 10, len(real_pos))\n",
    "\n",
    "plt.plot(t, real_pos)\n",
    "plt.plot(t, goal_pos)\n",
    "\n",
    "plt.legend(('real position', 'goal position'))"
   ]
  },
  {
   "cell_type": "markdown",
   "metadata": {},
   "source": [
    "You can thus see the lag between the motor command and its reach."
   ]
  },
  {
   "cell_type": "markdown",
   "metadata": {},
   "source": [
    "### Using physical demonstrations"
   ]
  },
  {
   "cell_type": "markdown",
   "metadata": {},
   "source": [
    "As stated above, dynamixel motors have a compliant mode where they can be freely moved. You can change them to compliant mode using:"
   ]
  },
  {
   "cell_type": "code",
   "execution_count": null,
   "metadata": {},
   "outputs": [],
   "source": [
    "for motor in reachy.motors:\n",
    "    motor.compliant = True"
   ]
  },
  {
   "cell_type": "markdown",
   "metadata": {},
   "source": [
    "You should now be able to freely move the robot. This can be useful for recording demonstrations. This means you can still record the *present_position* of the motor while they are in compliant mode and then apply these trajectories again when they are in stiff mode to reproduce the demo."
   ]
  },
  {
   "cell_type": "markdown",
   "metadata": {},
   "source": [
    "Learning what you have seen before, write a record function that runs for a few seconds and store all motor positions."
   ]
  },
  {
   "cell_type": "code",
   "execution_count": null,
   "metadata": {},
   "outputs": [],
   "source": []
  },
  {
   "cell_type": "markdown",
   "metadata": {},
   "source": [
    "Use it to record a simple movement."
   ]
  },
  {
   "cell_type": "code",
   "execution_count": null,
   "metadata": {},
   "outputs": [],
   "source": []
  },
  {
   "cell_type": "markdown",
   "metadata": {},
   "source": [
    "You can turn the motor stiff again."
   ]
  },
  {
   "cell_type": "markdown",
   "metadata": {
    "collapsed": true
   },
   "source": [
    "You can now write a simple function to replay your recorded movement."
   ]
  },
  {
   "cell_type": "code",
   "execution_count": null,
   "metadata": {},
   "outputs": [],
   "source": []
  },
  {
   "cell_type": "markdown",
   "metadata": {},
   "source": [
    "You have to be especially careful here:\n",
    "- not to enter dead zone when recording\n",
    "- maybe set a maximum speed to avoid high acceleration\n",
    "- also make sure to first reach the starting point of a recorded movement before re-playing. Otherwise, you will observe a very fast motion toward the beginning of your trajectory."
   ]
  },
  {
   "cell_type": "markdown",
   "metadata": {},
   "source": [
    "Reachy also provides a more convenient way to record and replay movement. Try looking in the source code if you find anything [hint](https://github.com/pollen-robotics/reachy/tree/6e5439e6c7c3315df6eb9f28e55d227194fd5f9f/software/reachy/primitives). Primitives area actually a good way to implement this kind og behavior. More info can be found in pypot's documentation: http://poppy-project.github.io/pypot/primitive.html"
   ]
  },
  {
   "cell_type": "markdown",
   "metadata": {},
   "source": [
    "## Going further"
   ]
  },
  {
   "cell_type": "markdown",
   "metadata": {},
   "source": [
    "### Simulation"
   ]
  },
  {
   "cell_type": "markdown",
   "metadata": {},
   "source": [
    "Try to control a Reachy or a Leachy in simulation."
   ]
  },
  {
   "cell_type": "markdown",
   "metadata": {},
   "source": [
    "## Tele-operation"
   ]
  },
  {
   "cell_type": "markdown",
   "metadata": {},
   "source": [
    "Let's try controling a Reachy with a Leachy... "
   ]
  },
  {
   "cell_type": "markdown",
   "metadata": {},
   "source": [
    "You should be really careful:\n",
    "\n",
    "- to motor orientation\n",
    "- not to use too fast motion\n",
    "- remember compliant vs stiff mode"
   ]
  },
  {
   "cell_type": "code",
   "execution_count": null,
   "metadata": {},
   "outputs": [],
   "source": []
  }
 ],
 "metadata": {
  "kernelspec": {
   "display_name": "Python 3",
   "language": "python",
   "name": "python3"
  },
  "language_info": {
   "codemirror_mode": {
    "name": "ipython",
    "version": 3
   },
   "file_extension": ".py",
   "mimetype": "text/x-python",
   "name": "python",
   "nbconvert_exporter": "python",
   "pygments_lexer": "ipython3",
   "version": "3.6.5"
  }
 },
 "nbformat": 4,
 "nbformat_minor": 1
}
